{
 "cells": [
  {
   "cell_type": "raw",
   "metadata": {},
   "source": [
    "---\n",
    "title: \"Ejercicio2_pauta_propuesta\"\n",
    "format: html\n",
    "---"
   ]
  },
  {
   "cell_type": "markdown",
   "metadata": {},
   "source": [
    "# Planteamiento\n",
    "\n",
    "Ejercicio 2: Carreras más postuladas por región.\n",
    "\n",
    "Para este segundo ejercicio, trabajaremos los datos de postulación a carreras universitarias en chile. Para esto contamos con la sigiguiente [carpeta de datos](https://www.dropbox.com/sh/uw9u1wlwi189lbw/AAD9rRWQsBLskP3hexaOk08Ba?dl=0)\n",
    "\n",
    "Cuando queremos hacer rankings, en general no basta con solo contar la frecuencia de eventos. Tenemos que considerar efectos de tamaños. Por ejemplo, para hacer comparables todas las carreras y todas las regiones, necesitamos considerar la cantidad total de postulantes de cada región y la cantidad de postulaciones a cada carrera. Una medida que controla por estos dos factores es el Balassa Index o RCA.\n",
    "\n",
    "Por lo general, $M_{cp}$ se define como $M_{cp} = 1$ cuando la cantidad de postulaciones a una carrera en una comuna es mayor que lo esperado para una comuna del mismo tamaño y una carrera con la misma cantidad de postulciones.\n",
    "\n",
    "$$ M_{cp} = 1 \\quad \\text{if} \\quad R_{cp} \\geq 1$$\n",
    "\n",
    "Donde $$ R_{cp}= \\frac{X_{cp}}{X_c X_o / X}$$\n",
    "\n",
    "-   $X_{cp}$ es la matriz que asocia comunas y carreras y cada entrada corresponde al número de postulaciones en una comuna c de una carrera p.\n",
    "-   $X_{p} = \\sum_p X_{cp}$ es el vector que contiene el número de postulaciones en todas las carreras para cada comuna c.\n",
    "-   $X_{c} = \\sum_{p} X_{cp}$ es el vector que contiene el número de postulaciones en todas las comunas para cada carrera p.\n",
    "-   $X = \\sum_{cp} X_{cp}$ es el número total de postulaciones.\n",
    "\n",
    "Por tanto, el denominador de la ecuación $R_{cp}$ corresponde a las postulaciones esperadas de la comuna c para la carrera p. En otras palabras, el denominador es igual a la cantidad de postulaciones de una comuna ($X_c = \\sum_p X_{cp}$) multiplicado por la cantidad de postulaciones totales a esa carrera ($X = \\sum_p X_{cp}$) dividido por el número total de postulaciones utilizadas en todo el país (L Xp).\n",
    "\n",
    "1)  Para cada región, construya el ranking de las top-10 carreras más postuladas en primera opción. (Ordene las columnas usando el Balassa index no-discreto; balassa_index(incidence_matrix_1st,discrete=F))\n",
    "\n",
    "2)  Construya el ranking top-10 para las siguientes comunas: Santiago, Las Condes, Vitacura, Providencia, Puente Alto, Maipú, Concepción, Valparaíso, Viña del Mar, La Serena, Antofagasta, Iquique, Arica, Rancagua, Talca, Linares, Los Ángeles, Chillán, Temuco, Osorno, Puerto Montt, Castro, Chiloé, Aysén, Punta Arenas.\n",
    "\n",
    "3)  Grafique la red de carreras usando balassa_index(incidence_matrix_1st, discrete = T) y avg_links = 8.\n",
    "\n",
    "4)  Repita el punto 2 con una red a nivel a nivel región y comuna (ojo con los valores nan de la matriz de proximidad).\n",
    "\n",
    "# Desarrollo\n",
    "\n",
    "## Carga de datos y preparación\n",
    "\n",
    "Primer cargamos los datos que vamos a usar. Para esto descargamos la carpeta de dropbox, la ponemos en el directorio\n",
    "\n",
    "Como trabajaremos y transformaciones de datos, carga y redes carguemos los paquetes tidyverse, readr y igraph. Para el balassa index vamos a usar tambien el economiccomplexity"
   ]
  },
  {
   "cell_type": "code",
   "execution_count": null,
   "metadata": {},
   "outputs": [],
   "source": [
    "library(tidyverse)\n",
    "library(igraph)"
   ]
  },
  {
   "cell_type": "markdown",
   "metadata": {},
   "source": [
    "### 1. Carga data\n",
    "\n",
    "Vamos a cargar los datos de las postulaciones, información de los postulantes (pues necesitamos su region) e información de las carreras.\n",
    "\n",
    "1)  Lea el archivo `POSTULACIONES.csv`. Use `read.csv(\"./Data/POSTULACIONES.csv\", header=T, sep = ';')`"
   ]
  },
  {
   "cell_type": "code",
   "execution_count": null,
   "metadata": {},
   "outputs": [],
   "source": [
    "links <- read.csv(\"./data_carreras/POSTULACIONES.csv\", header=T, sep = ';')\n",
    "carrega_generica <- read.csv(\"./data_carreras/Career_genericCarreer.csv\", header=T)#, sep = ';')\n",
    "individual_attr <-readRDS(\"./data_carreras/transformados3103.rds\")"
   ]
  },
  {
   "cell_type": "markdown",
   "metadata": {},
   "source": [
    "Las tres bases de datos, una indica como fueron realizadas las postulaciones por cada persona, identificada por su MRUN (máscara del rut)\n",
    "\n",
    "Dado que hubo ciertos cambios en el proceso de postulación, trabajaremos con los datos desde 2012 y nos centraremos en los estudiantes con postulaciones válidas y menores de 25 años de edad.\n",
    "\n",
    "Realizamos el filtado las entradas para `AÑO_PROCESO >=2012`, `SITUACION_POSTULANTE==\"P\"` (P: postulaciones válidas) y `EDAD<=21`. Use de la libreria `tidyverse` el comando `filter`.\n"
   ]
  },
  {
   "cell_type": "code",
   "execution_count": null,
   "metadata": {},
   "outputs": [],
   "source": [
    "# Filtra postulaciones\n",
    "links_filtered <- links%>%filter(AÑO_PROCESO >=2012, SITUACION_POSTULANTE=='P', EDAD<=25)%>%\n",
    "                           mutate(MRUNANIO=paste0(MRUN,'-',AÑO_PROCESO))%>%\n",
    "                           drop_na(MRUNANIO,AÑO_PROCESO)%>% \n",
    "                        #nos vamos a quedar con los datos que utilizaremos: AÑO_PROCESO MRUN MRUNANIO PREFERENCIA CODIGO_REGION_EGRESO y Generic career\n",
    "                            select(AÑO_PROCESO, MRUN, MRUNANIO, PREFERENCIA, CODIGO_CARRERA_GENERICA, CODIGO_CARRERA  )\n",
    "\n",
    "head(links_filtered)"
   ]
  },
  {
   "cell_type": "markdown",
   "metadata": {},
   "source": [
    "Como deseamos la primera preferencia, realizamos ese filtro. luego le agregamos los datos individuales desde el data frame de atributos. En especial nos interesa la carrera, la comuna y la region."
   ]
  },
  {
   "cell_type": "code",
   "execution_count": null,
   "metadata": {},
   "outputs": [],
   "source": [
    "# filtramos solo las primeras preferencias y juntamos con datos a nivel individual\n",
    "links_filtered_1st<-links_filtered %>% filter(PREFERENCIA==1) %>%\n",
    "                                        dplyr::select(-PREFERENCIA,-CODIGO_CARRERA)%>%\n",
    "                                        inner_join(filter(individual_attr, PREFERENCIA==1),by = c('MRUNANIO','MRUN'))\n",
    "\n",
    "#%>% \n",
    "                                     #drop_na(CODIGO_COMUNA_DOMICILIO)\n",
    "dim(links_filtered_1st)\n",
    "head(links_filtered_1st)\n"
   ]
  },
  {
   "cell_type": "code",
   "execution_count": null,
   "metadata": {},
   "outputs": [],
   "source": [
    "table(links_filtered_1st$PREFERENCIA)"
   ]
  },
  {
   "cell_type": "markdown",
   "metadata": {},
   "source": [
    "Ejemplo con regiones: La idea es que repliquen con comunas.\n",
    "\n",
    "3)  Crear la matriz de incidencia. Las filas representan personas (`MRUN`) y las columnas carreras (`CODIGO_CARRERA_GENERICA`)\n",
    "\n",
    "Realizamos la agrupación geográfica a nivel de regiones de egreso primero.\n",
    "\n",
    "Para hacer la matriz de incicidencia, primero hacemos una tabla de doble entrada entre todas la combinaciones de regiones(Este ejemplo, la idea es que ustedes lo pasen a comunas) y carreras."
   ]
  },
  {
   "cell_type": "code",
   "execution_count": null,
   "metadata": {},
   "outputs": [],
   "source": [
    "# Matriz de incidencia\n",
    "#CODIGO_REGION_DOMICILIO\n",
    "#CODIGO_PROVINCIA_DOMICILIO\n",
    "#CODIGO_COMUNA_DOMICILIO\n",
    "\n",
    "incidence_matrix_1st<-as.matrix(unclass(table(cbind.data.frame(Geo=links_filtered_1st$CODIGO_REGION_EGRESO,\n",
    "                                         Carrera_Generica=links_filtered_1st$GenericCareer))))\n",
    "\n",
    "\n",
    "view(incidence_matrix_1st)"
   ]
  },
  {
   "cell_type": "markdown",
   "metadata": {},
   "source": [
    "Nos apoyamos en el paquete `economic complexity` para calcular el índice balassa y depurar la matriz de incidencia directa, para que considere las diferencias de tamaño entre regiones."
   ]
  },
  {
   "cell_type": "code",
   "execution_count": null,
   "metadata": {},
   "outputs": [],
   "source": [
    "#install.packages('rbibutils')#Instale este paquete primero\n",
    "#install.packages(\"economiccomplexity\")# Luego instale este paquete\n",
    "\n",
    "library(economiccomplexity)"
   ]
  },
  {
   "cell_type": "code",
   "execution_count": null,
   "metadata": {},
   "outputs": [],
   "source": [
    "#### Analizando una red bipartita usando ventaja comparativa revelada (RCA) ####\n",
    "\n",
    "#Balassa index o RCA\n",
    "balassa<-(balassa_index(incidence_matrix_1st, discrete = T,cutoff = 1))\n",
    "balassa_copy<-as.matrix(balassa_index(incidence_matrix_1st, discrete = T,cutoff = 1))\n",
    "\n",
    "\n",
    "complex<-complexity_measures(balassa, method = \"reflections\", iterations = 20,extremality = 1)"
   ]
  },
  {
   "cell_type": "code",
   "execution_count": null,
   "metadata": {},
   "outputs": [],
   "source": [
    "#Calcula dos matrices que dan cuenta de la similitud entre pares de comunas/regiones y pares de carreras\n",
    "prox<-proximity(balassa, compute = \"both\")\n",
    "\n",
    "# prox$proximity_product\n",
    "\n",
    "# Para proyectar las redes sobre las unidades geográficas y sobre carreras.\n",
    "proj<-projections(prox$proximity_country,prox$proximity_product,avg_links = 8,tolerance = 0.05,compute = \"both\")\n"
   ]
  },
  {
   "cell_type": "markdown",
   "metadata": {},
   "source": [
    "Graficoamos la projección en carreras:"
   ]
  },
  {
   "cell_type": "code",
   "execution_count": null,
   "metadata": {},
   "outputs": [],
   "source": [
    "l <- layout_with_fr(proj$network_product)\n",
    "head(l)"
   ]
  },
  {
   "cell_type": "code",
   "execution_count": null,
   "metadata": {},
   "outputs": [],
   "source": [
    "####\n",
    "balassa_graph<-graph_from_incidence_matrix(balassa_copy)\n",
    "\n",
    "balassa_graph"
   ]
  },
  {
   "cell_type": "code",
   "execution_count": null,
   "metadata": {},
   "outputs": [],
   "source": [
    "BG <- bipartite.projection(balassa_graph)\n",
    "\n",
    "BG"
   ]
  },
  {
   "cell_type": "code",
   "execution_count": null,
   "metadata": {},
   "outputs": [],
   "source": [
    " hist(degree(BG$proj2))"
   ]
  },
  {
   "cell_type": "markdown",
   "metadata": {},
   "source": [
    "Ordenamos ahora por el índice de complejidad:"
   ]
  },
  {
   "cell_type": "code",
   "execution_count": null,
   "metadata": {},
   "outputs": [],
   "source": [
    "sort(complex$complexity_index_product,decreasing = T)\n",
    "sort(complex$complexity_index_country,decreasing = T)"
   ]
  },
  {
   "cell_type": "markdown",
   "metadata": {},
   "source": [
    "y podemos graficar:"
   ]
  },
  {
   "cell_type": "code",
   "execution_count": null,
   "metadata": {},
   "outputs": [],
   "source": [
    "plot(proj$network_product,vertex.size=degree(proj$network_product)^(1/2),vertex.label=NA,layout=l) #Red de carreras"
   ]
  },
  {
   "cell_type": "code",
   "execution_count": null,
   "metadata": {},
   "outputs": [],
   "source": [
    "plot(BG$proj2,vertex.size=degree(BG$proj2)^(1/5),vertex.label=NA)#,layout=l)#Red de carreras\n",
    "# plot(BG)"
   ]
  },
  {
   "cell_type": "code",
   "execution_count": null,
   "metadata": {},
   "outputs": [],
   "source": [
    "# Para proyectar las redes sobre las unidades geográficas y sobre carreras.\n",
    "proj<-projections(prox$proximity_country,prox$proximity_product,avg_links = 8,tolerance = 0.05,compute = \"both\")\n",
    "\n",
    "plot(proj$network_product,vertex.size=.2)#Red de carreras\n",
    "\n",
    "plot(proj$network_country,vertex.size=.2)#Red de regiones-comunas que están vinculadas por las \n",
    "\n",
    "\n",
    "plot(BG$proj2,vertex.size=.2,layaout=l)"
   ]
  },
  {
   "cell_type": "markdown",
   "metadata": {},
   "source": [
    "Todo esto fue a nivel de regiones.\n",
    "\n",
    "Si en cambio, desearamos hacerlo por comunas (para responder la pregunta del enunciado:).... y realizamos los filtros correspondientes"
   ]
  },
  {
   "cell_type": "code",
   "execution_count": null,
   "metadata": {},
   "outputs": [],
   "source": [
    "# COMUNA\n",
    "# Matriz de incidencia\n",
    "#CODIGO_REGION_DOMICILIO\n",
    "#CODIGO_PROVINCIA_DOMICILIO\n",
    "#CODIGO_COMUNA_DOMICILIO\n",
    "\n",
    "incidence_matrix_1st_com<-as.matrix(unclass(table(cbind.data.frame(Geo=links_filtered_1st$CODIGO_COMUNA_DOMICILIO,\n",
    "                                         Carrera_Generica=links_filtered_1st$CODIGO_CARRERA_GENERICA))))\n",
    "head(incidence_matrix_1st_com)\n",
    "\n",
    "#### Analizando una red bipartita usando ventaja comparativa revelada (RCA) ####\n",
    "\n",
    "#Balassa index o RCA\n",
    "balassa<-as.matrix(balassa_index(incidence_matrix_1st_com, discrete = T,cutoff = 2))\n",
    "balassa_graph<-graph_from_incidence_matrix(balassa)\n",
    "BG <- bipartite.projection(balassa_graph)\n",
    "l <- layout_with_fr(BG$proj2)\n",
    "\n",
    "hist(degree(BG$proj2))"
   ]
  },
  {
   "cell_type": "markdown",
   "metadata": {},
   "source": [
    "4)  Use `graph_from_incidence_matrix` para crear el objeto igraph. Luego, proyecte la red sobre la dimensión de carreras."
   ]
  }
 ],
 "metadata": {
  "kernelspec": {
   "display_name": "Python 3",
   "language": "python",
   "name": "python3"
  },
  "language_info": {
   "codemirror_mode": {
    "name": "ipython",
    "version": 3
   },
   "file_extension": ".py",
   "mimetype": "text/x-python",
   "name": "python",
   "nbconvert_exporter": "python",
   "pygments_lexer": "ipython3",
   "version": "3.6.6+"
  }
 },
 "nbformat": 4,
 "nbformat_minor": 4
}
