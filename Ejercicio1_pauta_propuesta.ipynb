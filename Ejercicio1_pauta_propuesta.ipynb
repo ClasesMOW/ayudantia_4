{
  "cells": [
    {
      "cell_type": "raw",
      "metadata": {},
      "source": [
        "---\n",
        "title: \"Ejercicio1_pauta_propuesta\"\n",
        "format: html\n",
        "---"
      ]
    },
    {
      "cell_type": "markdown",
      "metadata": {},
      "source": [
        "# Ejercicio 1: Redes de cooperación en cursos\n",
        "\n",
        "Vamos a trabajar con datos del proyecto \"Juecoo\" realizado por investigadores de nuestra universidad. Se le entrega un subconjunto anonimizado con una selección de datosdatos disponible en la carpeta. El grupo 1 trabaje con el curso 1 y el grupo 2 con el curso 2.\n",
        "\n",
        "1. Identifique las variables disponibles con las que cuente y realice una breve estadística descriptiva.\n",
        "\n",
        "Cargamos los dato, contamos con dos tablas: data de diadas y data de individuos."
      ]
    },
    {
      "cell_type": "code",
      "metadata": {},
      "source": [
        "diadas <- read.csv(\"./data_cursos_juecoo/Data_diadas_ayudantia4_ej1.csv\", header=T, sep = ',')\n",
        "individuos <- read.csv(\"./data_cursos_juecoo/Data_indiv_ayudantia4_ej1.csv\", header=T, sep = ',')"
      ],
      "execution_count": null,
      "outputs": []
    },
    {
      "cell_type": "markdown",
      "metadata": {},
      "source": [
        "Le podemos dar un vistazo general a cada data set:"
      ]
    },
    {
      "cell_type": "code",
      "metadata": {},
      "source": [
        "glimpse(diadas)"
      ],
      "execution_count": null,
      "outputs": []
    },
    {
      "cell_type": "code",
      "metadata": {},
      "source": [
        "glimpse(individuos)"
      ],
      "execution_count": null,
      "outputs": []
    },
    {
      "cell_type": "markdown",
      "metadata": {},
      "source": [
        "Podemos usar skimr para hacer una visión general de ambos data frames:"
      ]
    },
    {
      "cell_type": "code",
      "metadata": {},
      "source": [
        "# Cargar skimr\n",
        "library(\"skimr\")\n",
        "\n",
        "# Usamos skim() para inspeccionar los datos\n",
        "skim(individuos)"
      ],
      "execution_count": null,
      "outputs": []
    },
    {
      "cell_type": "code",
      "metadata": {},
      "source": [
        "# Usamos skim() para inspeccionar los datos\n",
        "skim(diadas)"
      ],
      "execution_count": null,
      "outputs": []
    },
    {
      "cell_type": "markdown",
      "metadata": {},
      "source": [
        "2. Filtre sus datos para el curso con el cual le toca trabajar y revise estadísticas de dicho curso."
      ]
    },
    {
      "cell_type": "code",
      "metadata": {},
      "source": [
        "diadas_filtrado <- diadas %>% filter(Id_Curso==11)\n",
        "individuos_filtrado <- individuos %>% filter(Id_Curso==11)"
      ],
      "execution_count": null,
      "outputs": []
    },
    {
      "cell_type": "code",
      "metadata": {},
      "source": [
        "skim(individuos_filtrado)\n",
        "\n",
        "skim(diadas_filtrado)"
      ],
      "execution_count": null,
      "outputs": []
    },
    {
      "cell_type": "markdown",
      "metadata": {},
      "source": [
        "3. Creemos una red en base a los datos, en los cuales definiremos un link entre dos individuos si hay al menos un envio de 10 entre ellos. No importa quien realice el envio.  Esta es una red no dirigida sin pesos. "
      ]
    },
    {
      "cell_type": "code",
      "metadata": {},
      "source": [
        "edgelist_1 <- diadas_filtrado %>% \n",
        "              filter(weight==10) %>%\n",
        "              select(Id_Emisor, Id_Receptor) %>%\n",
        "              filter(!duplicated(paste0(pmax(Id_Emisor, Id_Receptor), pmin(Id_Emisor, Id_Emisor)))) #removemos duplicados, porque queremos un link entre cada par\n",
        "\n",
        "\n",
        "view(edgelist_1)\n"
      ],
      "execution_count": null,
      "outputs": []
    },
    {
      "cell_type": "markdown",
      "metadata": {},
      "source": [
        "creamos el objeto de igraph"
      ]
    },
    {
      "cell_type": "code",
      "metadata": {},
      "source": [
        "g1 <- igraph::graph_from_data_frame(edgelist_1 , directed = F) "
      ],
      "execution_count": null,
      "outputs": []
    },
    {
      "cell_type": "markdown",
      "metadata": {},
      "source": [
        "4. Realice una visualización de la red.\n"
      ]
    },
    {
      "cell_type": "code",
      "metadata": {},
      "source": [
        "plot(g1)"
      ],
      "execution_count": null,
      "outputs": []
    },
    {
      "cell_type": "markdown",
      "metadata": {},
      "source": [
        "Vemos que hay más de un link, porque no borramos los duplicados. Podemos usar simplfy para esto:"
      ]
    },
    {
      "cell_type": "code",
      "metadata": {},
      "source": [
        "g1 <- simplify( g1, remove.multiple = T, remove.loops = F, \n",
        "                 edge.attr.comb=list(weight=\"sum\", type=\"ignore\") )\n"
      ],
      "execution_count": null,
      "outputs": []
    },
    {
      "cell_type": "code",
      "metadata": {},
      "source": [
        "plot(g1, vertex.label.dist=1.5)"
      ],
      "execution_count": null,
      "outputs": []
    },
    {
      "cell_type": "markdown",
      "metadata": {},
      "source": [
        "Ahora tenemos un plot más limpio.\n",
        "\n",
        "\n",
        "\n",
        "5. Calcule la centralidad de grado y reagile un histograma de esta. ¿QUé información puede interpretar de este resultado.\n",
        "\n",
        "6. Ahora creemos una segunda red para el curso, pero esta vez definiremos un link entre dos individuos hay un envio de 10 entre ellos, pero preservaremos la información de quien realiza el envio. Es decir, debe crear una edgelist con dos elementos: from y to. Esta es una red no dirigida sin pesos. \n"
      ]
    },
    {
      "cell_type": "code",
      "metadata": {},
      "source": [
        "edgelist_2 <- diadas_filtrado %>% \n",
        "              filter(weight==10) %>%\n",
        "              select(Id_Emisor, Id_Receptor)\n",
        "\n",
        "view(edgelist_2)"
      ],
      "execution_count": null,
      "outputs": []
    },
    {
      "cell_type": "markdown",
      "metadata": {},
      "source": [
        "creamos el objeto de igraph"
      ]
    },
    {
      "cell_type": "code",
      "metadata": {},
      "source": [
        "g2 <- igraph::graph_from_data_frame(edgelist_2 , directed = T) "
      ],
      "execution_count": null,
      "outputs": []
    },
    {
      "cell_type": "code",
      "metadata": {},
      "source": [
        "plot(g2)"
      ],
      "execution_count": null,
      "outputs": []
    },
    {
      "cell_type": "markdown",
      "metadata": {},
      "source": [
        "Podemos ver las propiedades de nuestros grafos, simplemente observado el objeto:"
      ]
    },
    {
      "cell_type": "code",
      "metadata": {},
      "source": [
        "g2"
      ],
      "execution_count": null,
      "outputs": []
    },
    {
      "cell_type": "markdown",
      "metadata": {},
      "source": [
        "7. Calcule la centralidad de grado, in degree y outdegree y realice un histograma de estas. ¿Qué información puede interpretar de este resultado."
      ]
    },
    {
      "cell_type": "code",
      "metadata": {},
      "source": [
        "degree_g2 <- degree(g2)\n",
        "indegree_g2 <- degree(g2, mode=\"in\")\n",
        "outdegree_g2 <- degree(g2, mode=\"out\")\n"
      ],
      "execution_count": null,
      "outputs": []
    },
    {
      "cell_type": "markdown",
      "metadata": {},
      "source": [
        "Haciendo más lindo el grafo:\n"
      ]
    },
    {
      "cell_type": "code",
      "metadata": {},
      "source": [
        "#tamaño de la flecha\n",
        "E(g2)$arrow.size <- .2\n",
        "\n",
        "#Tamaño es por indegree del nodo\n",
        "\n",
        "V(g2)$size <- V(g2)$indegree_g2"
      ],
      "execution_count": null,
      "outputs": []
    },
    {
      "cell_type": "markdown",
      "metadata": {},
      "source": [
        "plot(g2)\n",
        "\n",
        "\n",
        "8. Agreguege a ambas visualizaciones el grado como atributo del nodo y úselo para su tamaño.\n",
        "\n",
        "Calculamos los grados:"
      ]
    },
    {
      "cell_type": "code",
      "metadata": {},
      "source": [
        "degree_g2 <- degree(g2)\n",
        "indegree_g2 <- degree(g2, mode=\"in\")\n",
        "outdegree_g2 <- degree(g2, mode=\"out\")\n",
        "\n",
        "indegree_g2"
      ],
      "execution_count": null,
      "outputs": []
    },
    {
      "cell_type": "markdown",
      "metadata": {},
      "source": [
        "Si bien, el orden de los nodos es el de la base datos. Siempre es bueno saber el id tb:"
      ]
    },
    {
      "cell_type": "code",
      "metadata": {},
      "source": [
        "id <- rownames(indegree_g2)\n",
        "indegree_g2 <- cbind(id, indegree_g2)\n",
        "\n",
        "indegree_g2"
      ],
      "execution_count": null,
      "outputs": []
    },
    {
      "cell_type": "markdown",
      "metadata": {},
      "source": [
        "podemos agregar este objeto como atributo al grafo también:\n",
        "\n",
        "g4 <- set_graph_attr(g4, \"something\", \"A thing\")"
      ]
    },
    {
      "cell_type": "code",
      "metadata": {},
      "source": [
        "igraph::set_graph_attr(g2,\"indegree_g2\", indegree_g2 )"
      ],
      "execution_count": null,
      "outputs": []
    },
    {
      "cell_type": "code",
      "metadata": {},
      "source": [
        "vertex_attr(g2)"
      ],
      "execution_count": null,
      "outputs": []
    },
    {
      "cell_type": "markdown",
      "metadata": {},
      "source": [
        "9. Agregue a ambas visualizaciones el género como un atributo del nodo y coloree los nodos de acuerdo a este. \n",
        "\n",
        "\n",
        "Lo que tenemos que hacer ahora es agregar una info extra de los nodos, para eso volveremos a crear el objeto de grafo "
      ]
    },
    {
      "cell_type": "code",
      "metadata": {},
      "source": [
        "#Lista de nodos con atributos de nodo\n",
        "\n",
        "nodos <- individuos_filtrado %>% select(Id, Sexo)\n",
        "\n",
        "nodos"
      ],
      "execution_count": null,
      "outputs": []
    },
    {
      "cell_type": "markdown",
      "metadata": {},
      "source": [
        "Y al crear el objeto de red, le indicamos de donde salen los vertices y de donde los nodos:\n"
      ]
    },
    {
      "cell_type": "code",
      "metadata": {},
      "source": [
        "g3 <- igraph::graph_from_data_frame(edgelist_2, vertices=nodos, directed = T)"
      ],
      "execution_count": null,
      "outputs": []
    },
    {
      "cell_type": "markdown",
      "metadata": {},
      "source": [
        "Si ahora inspeccionamos el objeto, toda la info de ese data frame queda como atributo de los nodos."
      ]
    },
    {
      "cell_type": "code",
      "metadata": {},
      "source": [
        "g3"
      ],
      "execution_count": null,
      "outputs": []
    },
    {
      "cell_type": "code",
      "metadata": {},
      "source": [
        "vertex_attr(g3)"
      ],
      "execution_count": null,
      "outputs": []
    },
    {
      "cell_type": "markdown",
      "metadata": {},
      "source": [
        "Entonces, ahora podemos colorear los nodos con esa info:"
      ]
    },
    {
      "cell_type": "code",
      "metadata": {},
      "source": [
        "#tamaño de la flecha\n",
        "E(g3)$arrow.size <- .2\n",
        "\n",
        "#tamaño del nodo es el grado\n",
        "V(g3)$size <- degree_g2\n",
        "#V(g3)$size <- V(g3)$degree_g2 #cuando se lo agregamos como atributo\n",
        "\n",
        "#Tamaño es por indegree del nodo\n",
        "\n",
        "V(g3)$color <- case_when( V(g3)$Sexo==\"F\" ~ \"pink\",  #\"#2F91A6\" , # Female un color\n",
        "                          V(g3)$Sexo==\"M\" ~ \"#A3D3D2D9\"  ) # Male otro color"
      ],
      "execution_count": null,
      "outputs": []
    },
    {
      "cell_type": "code",
      "metadata": {},
      "source": [
        "plot(g3)"
      ],
      "execution_count": null,
      "outputs": []
    },
    {
      "cell_type": "markdown",
      "metadata": {},
      "source": [
        "(Propuesto: Finalmente, cree una lista de adjaciencia con pesos para su curso. Esta lista debe tener columnas elementos: from, to, weight (que corresponde al link) y replique la visualización, esta vez agregando un atributo al link que indique el grosor como el peso)"
      ]
    }
  ],
  "metadata": {
    "kernelspec": {
      "name": "ir",
      "language": "R",
      "display_name": "R"
    }
  },
  "nbformat": 4,
  "nbformat_minor": 4
}